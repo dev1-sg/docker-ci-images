{
 "cells": [
  {
   "cell_type": "markdown",
   "id": "bdc3c434",
   "metadata": {},
   "source": [
    "## Docker Images List\n",
    "\n",
    "[https://gallery.ecr.aws/dev1-sg/](https://gallery.ecr.aws/dev1-sg/)\n",
    "\n",
    "| # | Repository Name | Group | URI | Latest Tag | Image Size (MB) |\n",
    "|---|-----------------|-------|-----|------------|-----------------|\n",
    "| 1 | [ci/ansible](https://gallery.ecr.aws/dev1-sg/ci/ansible) | ci | public.ecr.aws/dev1-sg/ci/ansible | 11.7.0 | 210.08 |\n",
    "| 2 | [ci/dev](https://gallery.ecr.aws/dev1-sg/ci/dev) | ci | public.ecr.aws/dev1-sg/ci/dev | 1.0.0 | 3.95 |\n",
    "| 3 | [ci/docker](https://gallery.ecr.aws/dev1-sg/ci/docker) | ci | public.ecr.aws/dev1-sg/ci/docker | 28.2.2 | 109.06 |\n",
    "| 4 | [ci/terraform](https://gallery.ecr.aws/dev1-sg/ci/terraform) | ci | public.ecr.aws/dev1-sg/ci/terraform | 1.12.0 | 163.66 |\n"
   ]
  }
 ],
 "metadata": {},
 "nbformat": 4,
 "nbformat_minor": 5
}
